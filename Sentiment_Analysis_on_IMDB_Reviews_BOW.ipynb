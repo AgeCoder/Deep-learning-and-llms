{
  "nbformat": 4,
  "nbformat_minor": 0,
  "metadata": {
    "colab": {
      "provenance": [],
      "authorship_tag": "ABX9TyO62ttb+u8tJiTh0Pi3x4WT",
      "include_colab_link": true
    },
    "kernelspec": {
      "name": "python3",
      "display_name": "Python 3"
    },
    "language_info": {
      "name": "python"
    }
  },
  "cells": [
    {
      "cell_type": "markdown",
      "metadata": {
        "id": "view-in-github",
        "colab_type": "text"
      },
      "source": [
        "<a href=\"https://colab.research.google.com/github/AgeCoder/Deep-learning-and-llms/blob/main/Sentiment_Analysis_on_IMDB_Reviews_BOW.ipynb\" target=\"_parent\"><img src=\"https://colab.research.google.com/assets/colab-badge.svg\" alt=\"Open In Colab\"/></a>"
      ]
    },
    {
      "cell_type": "code",
      "source": [
        "import numpy as np\n",
        "import pandas as pd\n",
        "import random\n",
        "import matplotlib.pyplot as plt\n",
        "from pathlib import Path\n",
        "\n",
        "#Tensorflow & Keras related packages\n",
        "import tensorflow as tf\n",
        "from tensorflow import keras\n",
        "from keras import layers"
      ],
      "metadata": {
        "id": "aOmkg4uug4fg"
      },
      "execution_count": null,
      "outputs": []
    },
    {
      "cell_type": "code",
      "source": [
        "import tensorflow_datasets as tfds"
      ],
      "metadata": {
        "id": "ZKfRPiF_hAPg"
      },
      "execution_count": null,
      "outputs": []
    },
    {
      "cell_type": "code",
      "source": [
        "train, val, test = tfds.load(name=\"imdb_reviews\",split=[\"train[:80%]\", \"train[80%:]\", \"test\"],\n",
        "                             as_supervised=True)"
      ],
      "metadata": {
        "id": "3aIB66WQhB6Q"
      },
      "execution_count": null,
      "outputs": []
    },
    {
      "cell_type": "code",
      "source": [
        "print (len(train))\n",
        "print (len(val))\n",
        "print (len(test))"
      ],
      "metadata": {
        "id": "sarcd4zUhG5I"
      },
      "execution_count": null,
      "outputs": []
    },
    {
      "cell_type": "code",
      "source": [
        "for element in train.take(2):\n",
        "    print (element)"
      ],
      "metadata": {
        "id": "P4JGb_XuhMFW"
      },
      "execution_count": null,
      "outputs": []
    },
    {
      "cell_type": "code",
      "source": [
        "for review,label in train.take(1):\n",
        "    print (review)\n",
        "    print (label)"
      ],
      "metadata": {
        "id": "MuE-mPM0hT1N"
      },
      "execution_count": null,
      "outputs": []
    },
    {
      "cell_type": "code",
      "source": [
        "train_data = train.batch(32)\n",
        "val_data = val.batch(32)\n",
        "test_data = test.batch(32)"
      ],
      "metadata": {
        "id": "_vQCSqPphoYH"
      },
      "execution_count": null,
      "outputs": []
    },
    {
      "cell_type": "code",
      "source": [
        "for reviews, labels in train_data.take(1):\n",
        "    print (\"Reviews shape\", reviews.shape)\n",
        "    print (\"Labels shape\", labels.shape, \"\\n\")\n",
        "\n",
        "    print ('First Review:', reviews[0].numpy().decode(\"utf-8\"), \"\\n\")\n",
        "    print ('First Label:', labels[0].numpy())"
      ],
      "metadata": {
        "id": "pvwuVTcbhtwT"
      },
      "execution_count": null,
      "outputs": []
    },
    {
      "cell_type": "code",
      "source": [
        "train_data_onlyreviews = train_data.map(lambda x,y : x)"
      ],
      "metadata": {
        "id": "OjnicvoyhxLS"
      },
      "execution_count": null,
      "outputs": []
    },
    {
      "cell_type": "code",
      "source": [
        "from tensorflow import keras\n",
        "from tensorflow.keras.layers import TextVectorization\n",
        "\n",
        "max_tokens = 10000\n",
        "text_vectorization = TextVectorization(\n",
        "                                        max_tokens=max_tokens,\n",
        "                                        output_mode = \"multi_hot\"\n",
        ")"
      ],
      "metadata": {
        "id": "_SHSNAGwiSSP"
      },
      "execution_count": null,
      "outputs": []
    },
    {
      "cell_type": "code",
      "source": [
        "text_vectorization.adapt(train_data_onlyreviews)"
      ],
      "metadata": {
        "id": "UaAG64nCiYY1"
      },
      "execution_count": null,
      "outputs": []
    },
    {
      "cell_type": "code",
      "source": [
        "vocab = text_vectorization.get_vocabulary()\n",
        "vocab"
      ],
      "metadata": {
        "id": "G57Ar5d0ibba"
      },
      "execution_count": null,
      "outputs": []
    },
    {
      "cell_type": "code",
      "source": [
        "train_multihot_ugram = train_data.map(lambda x,y: (text_vectorization(x),y))\n",
        "val_multihot_ugram = val_data.map(lambda x,y: (text_vectorization(x),y))\n",
        "test_multihot_ugram = test_data.map(lambda x,y: (text_vectorization(x),y))"
      ],
      "metadata": {
        "id": "qRjBnvNVifVq"
      },
      "execution_count": null,
      "outputs": []
    },
    {
      "cell_type": "code",
      "source": [
        "type(train_multihot_ugram)"
      ],
      "metadata": {
        "id": "MyIsk2mRip36"
      },
      "execution_count": null,
      "outputs": []
    },
    {
      "cell_type": "code",
      "source": [
        "for reviews, labels in train_multihot_ugram.take(1):\n",
        "    print (\"Reviews shape\", reviews.shape)\n",
        "    print (\"Labels shape\", labels.shape, \"\\n\")\n",
        "\n",
        "    print ('First Review:', reviews[0], \"\\n\")\n",
        "    print ('First Label:', labels[0].numpy())"
      ],
      "metadata": {
        "id": "Z77cua73isr_"
      },
      "execution_count": null,
      "outputs": []
    },
    {
      "cell_type": "code",
      "source": [
        "for reviews, labels in train_multihot_ugram.take(1):\n",
        "    # Convert tensor to numpy for easy to view\n",
        "    reviews_np = reviews.numpy()\n",
        "\n",
        "    # Create DataFrame\n",
        "    df = pd.DataFrame(reviews_np, columns=vocab)\n",
        "    break\n",
        "df"
      ],
      "metadata": {
        "id": "4X4KY7skivkS"
      },
      "execution_count": null,
      "outputs": []
    },
    {
      "cell_type": "code",
      "source": [
        "random.seed(42)\n",
        "np.random.seed(42)\n",
        "tf.random.set_seed(42)"
      ],
      "metadata": {
        "id": "NYPADAQFi0na"
      },
      "execution_count": null,
      "outputs": []
    },
    {
      "cell_type": "code",
      "source": [
        "hidden_units = 16\n",
        "\n",
        "def model_ugram_dense():\n",
        "\n",
        "    # Define Input shape\n",
        "    inputs = keras.Input(shape = (max_tokens,))\n",
        "\n",
        "    # Dense Hidden Layer\n",
        "    x = layers.Dense(hidden_units, activation=\"relu\")(inputs)\n",
        "\n",
        "    # Dropout Layer\n",
        "    x = layers.Dropout(0.5)(x)\n",
        "\n",
        "    # Dense output Layer\n",
        "    outputs = layers.Dense(1, activation=\"sigmoid\")(x)\n",
        "\n",
        "    model = keras.Model(inputs=inputs, outputs=outputs)\n",
        "    return model\n"
      ],
      "metadata": {
        "id": "qcvpRh_Fi75o"
      },
      "execution_count": null,
      "outputs": []
    },
    {
      "cell_type": "code",
      "source": [
        "model = model_ugram_dense()\n",
        "model.summary()"
      ],
      "metadata": {
        "id": "URn48koLjAp-"
      },
      "execution_count": null,
      "outputs": []
    },
    {
      "cell_type": "code",
      "source": [
        "model = model_ugram_dense()\n",
        "path = Path(\"./models/model_ugram_dense.keras\")"
      ],
      "metadata": {
        "id": "myCOX-2wjB4D"
      },
      "execution_count": null,
      "outputs": []
    },
    {
      "cell_type": "code",
      "source": [
        "def train_evaluate(model,path,train,val,test):\n",
        "\n",
        "    # Call backs\n",
        "    checkpoint_cb = keras.callbacks.ModelCheckpoint(filepath = path,\n",
        "                                                       save_best_only=True) # Save only best model\n",
        "\n",
        "    earlystop_cb = keras.callbacks.EarlyStopping(monitor='val_loss', patience=5,\n",
        "                                                 restore_best_weights=True)\n",
        "    callbacks = [checkpoint_cb,earlystop_cb]\n",
        "\n",
        "    # Compile the model\n",
        "    model.compile(optimizer=\"rmsprop\", loss='binary_crossentropy',  metrics = [\"accuracy\"])\n",
        "\n",
        "    # Train the model\n",
        "    history = model.fit(train, validation_data = val, callbacks=callbacks, epochs=20)\n",
        "\n",
        "    # Evaluate the model\n",
        "    test_loss, test_accuracy = model.evaluate(test)\n",
        "\n",
        "    return (history,test_accuracy)"
      ],
      "metadata": {
        "id": "2HIg3wLwjG5O"
      },
      "execution_count": null,
      "outputs": []
    },
    {
      "cell_type": "code",
      "source": [
        "(history_ugram_dense,test_accuracy_ugram_dense) = train_evaluate(model,path,\n",
        "                                                                 train_multihot_ugram,\n",
        "                                                                 val_multihot_ugram,\n",
        "                                                                 test_multihot_ugram)"
      ],
      "metadata": {
        "id": "Is_Z_AvpjLD4"
      },
      "execution_count": null,
      "outputs": []
    },
    {
      "cell_type": "code",
      "source": [
        "print (f\"Accuracy on the test data set is {test_accuracy_ugram_dense}\")"
      ],
      "metadata": {
        "id": "B400tOPBjMc3"
      },
      "execution_count": null,
      "outputs": []
    },
    {
      "cell_type": "code",
      "source": [
        "test_probabilities = model.predict(test_multihot_ugram)\n",
        "test_probabilities"
      ],
      "metadata": {
        "id": "Ix2anJMhjcMP"
      },
      "execution_count": null,
      "outputs": []
    },
    {
      "cell_type": "code",
      "source": [
        "(test_probabilities >= 0.5).astype(int)"
      ],
      "metadata": {
        "id": "DmkfLRSejf-u"
      },
      "execution_count": null,
      "outputs": []
    },
    {
      "cell_type": "code",
      "source": [
        "for review, label in test_multihot_ugram.take(1):\n",
        "    print (label)"
      ],
      "metadata": {
        "id": "Ap4StN0-jjYO"
      },
      "execution_count": null,
      "outputs": []
    },
    {
      "cell_type": "code",
      "source": [
        "max_tokens = 10000\n",
        "text_vectorization = TextVectorization(\n",
        "    max_tokens=max_tokens,\n",
        "    output_mode = \"tf_idf\"\n",
        ")\n",
        "# Vectorize the reviews\n",
        "# apply text vectorization on training data reviews to index the vocabulary\n",
        "text_vectorization.adapt(train_data_onlyreviews)\n",
        "\n",
        "vocab = text_vectorization.get_vocabulary()\n",
        "\n",
        "# reviews are converted into multihot\n",
        "train_tfidf = train_data.map(lambda x,y: (text_vectorization(x),y))\n",
        "val_tfidf = val_data.map(lambda x,y: (text_vectorization(x),y))\n",
        "test_tfidf= test_data.map(lambda x,y: (text_vectorization(x),y))"
      ],
      "metadata": {
        "id": "KXlb1Hcljm6l"
      },
      "execution_count": null,
      "outputs": []
    },
    {
      "cell_type": "code",
      "source": [
        "for reviews, labels in train_tfidf.take(1):\n",
        "\n",
        "    print ('First Review:', reviews[0], \"\\n\")\n",
        "    print ('First Label:', labels[0].numpy())"
      ],
      "metadata": {
        "id": "OQK1iDsZkrTQ"
      },
      "execution_count": null,
      "outputs": []
    },
    {
      "cell_type": "code",
      "source": [
        "for reviews, labels in train_tfidf.take(1):\n",
        "    # Convert tensor to numpy for easy to view\n",
        "    reviews_np = reviews.numpy()\n",
        "\n",
        "    # Create DataFrame\n",
        "    df = pd.DataFrame(reviews_np, columns=vocab)\n",
        "    break\n",
        "df"
      ],
      "metadata": {
        "id": "7xLxloVmkv_F"
      },
      "execution_count": null,
      "outputs": []
    },
    {
      "cell_type": "code",
      "source": [
        "random.seed(42)\n",
        "np.random.seed(42)\n",
        "tf.random.set_seed(42)"
      ],
      "metadata": {
        "id": "62EyycLikyQD"
      },
      "execution_count": null,
      "outputs": []
    },
    {
      "cell_type": "code",
      "source": [
        "hidden_units = 16\n",
        "\n",
        "def model_tfidf_dense():\n",
        "    inputs = keras.Input(shape = (max_tokens,)) # Define Input shape\n",
        "\n",
        "    x = layers.Dense(hidden_units, activation=\"relu\")(inputs) # Dense Hidden Layer\n",
        "\n",
        "    x = layers.Dropout(0.5)(x) # Dropout Layer\n",
        "\n",
        "    outputs = layers.Dense(1, activation=\"sigmoid\")(x) # Dense output Layer\n",
        "\n",
        "    model = keras.Model(inputs=inputs, outputs=outputs)\n",
        "    return model"
      ],
      "metadata": {
        "id": "HEosh7aWk06q"
      },
      "execution_count": null,
      "outputs": []
    },
    {
      "cell_type": "code",
      "source": [
        "model = model_tfidf_dense()\n",
        "model.summary()"
      ],
      "metadata": {
        "id": "9ojSKJAak5rz"
      },
      "execution_count": null,
      "outputs": []
    },
    {
      "cell_type": "code",
      "source": [
        "(history_tfidf_dense,test_accuracy_tfidf_dense) = train_evaluate(model,path,\n",
        "                                                                 train_tfidf,\n",
        "                                                                 val_tfidf,\n",
        "                                                                 test_tfidf)"
      ],
      "metadata": {
        "id": "zdTonfOQk6_S"
      },
      "execution_count": null,
      "outputs": []
    },
    {
      "cell_type": "code",
      "source": [
        "print (f\"Accuracy on the test data set is {test_accuracy_tfidf_dense}\")\n",
        "\n"
      ],
      "metadata": {
        "id": "gnoIn6Rck-Sq"
      },
      "execution_count": null,
      "outputs": []
    },
    {
      "cell_type": "code",
      "source": [],
      "metadata": {
        "id": "QmOhhUAomC7B"
      },
      "execution_count": null,
      "outputs": []
    }
  ]
}